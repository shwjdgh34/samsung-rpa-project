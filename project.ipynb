{
 "cells": [
  {
   "attachments": {},
   "cell_type": "markdown",
   "metadata": {},
   "source": [
    "목표: 팀별 상위 3명의 연봉 평균값 구하기\n",
    "1. 연도별 employee.xlsx 파일들을 xlwings를 이용하여 읽어들인다.\n",
    "2. 읽어들인 데이터를 병합하여 하나의 데이터 프레임을 생성한다.\n",
    "3. result.xlsx 파일을 생성한다.\n",
    "4. result.xlsx에서 team별로 sheet를 만들어준다.\n",
    "5. team별 sheet의 A1셀에 각 team 연봉 상위 3명의 연봉 평균을 적어 놓는다.\n",
    "\n",
    "    5-1. team별로 dataframe을 만들어준다.\n",
    "\n",
    "    5-2. team별로 생성된 dataframe에서 연봉 상위 3명의 연봉을 평균낸다. (일의자리까지 반올림. 예를들어 1524.7 => 1525)\n",
    "\n",
    "    5-3. 값을 A1셀에 적어넣는다.\n",
    "\n",
    "6. result.xlsx을 저장한다."
   ]
  },
  {
   "cell_type": "code",
   "execution_count": null,
   "metadata": {},
   "outputs": [],
   "source": [
    "import os, glob\n",
    "import xlwings as xw\n",
    "import pandas as pd\n",
    "\n",
    "files = glob.glob('[!~]*_employee.xlsx')\n",
    "app = xw.App(visible=False) #엑셀을 최소화 된 상태로 생성\n",
    "df_list = []\n",
    "for file in files:\n",
    "    wb = app.books.open(file) #최소화 된 엑셀에서 해당하는 파일이름의 파일 오픈\n",
    "    ws = wb.sheets[0]\n",
    "    df = ws.range('A1').expand().options(pd.DataFrame).value\n",
    "    df_list.append(df)\n",
    "concated_df = pd.concat(df_list)\n",
    "concated_df.reset_index(inplace=True)\n",
    "wb.close()\n",
    "\n",
    "wb = xw.Book()\n",
    "\n",
    "teams = concated_df['team'].unique()\n",
    "for team_name in teams:\n",
    "    team_df = concated_df[ (concated_df['team'] == team_name)]\n",
    "    soted_df = team_df.sort_values(by='salary', ascending=False, ignore_index=True)\n",
    "    result = round( soted_df.head(3)['salary'].mean() )\n",
    "    ws = wb.sheets.add(team_name)\n",
    "    ws.range('A1').value = result\n",
    "\n",
    "wb.save('result.xlsx')\n",
    "wb.close()\n",
    "app.kill()"
   ]
  },
  {
   "attachments": {},
   "cell_type": "markdown",
   "metadata": {},
   "source": [
    "심화 목표: 연봉 실수령액(salary - 비용)을 내림차순으로 정렬하여 result sheet에 입력하기\n",
    "\n",
    "(참고할점: 이름 중복 없음.)\n",
    "\n",
    "1. 각 사원들의 구매목록중에서 support == False인 경우를 salary에서 제외 해서 연봉 실수령액을 구한다.\n",
    "2. 모든 사원의 연봉 실수령액 정보를 담은 하나의 병합된 dataframe을 만든다.\n",
    "3. 병합된 dataframe을 내림차순 정렬하여 result sheet에 입력한다.\n"
   ]
  },
  {
   "cell_type": "code",
   "execution_count": null,
   "metadata": {},
   "outputs": [],
   "source": [
    "#--- 아래는 히든\n",
    "name_list = []\n",
    "team_list = []\n",
    "real_salary_list = []\n",
    "\n",
    "#app = xw.App(visible=False) #엑셀을 최소화 된 상태로 생성\n",
    "\n",
    "for name in concated_df['name']:\n",
    "    filename = './empinfo/'+name+'.xlsx'\n",
    "    wb = app.books.open(filename)\n",
    "    ws = wb.sheets[0]\n",
    "    df = ws.range('A1').expand().options(pd.DataFrame).value\n",
    "    \n",
    "    salary = (concated_df[concated_df['name'] == name]['salary'].values[0]) #해당 사원의 급여\n",
    "    team = (concated_df[concated_df['name'] == name]['team'].values[0]) #해당 사원의 부서\n",
    "\n",
    "    unsupport_item_price_sum = df[ df['support'] == \"FALSE\" ]['price'].sum() #sum으로 처리 해도 됨.\n",
    "    salary -= unsupport_item_price_sum\n",
    "\n",
    "    name_list.append(name)\n",
    "    team_list.append(team)\n",
    "    real_salary_list.append(salary)\n",
    "    wb.close()\n",
    "\n",
    "result = pd.DataFrame({\n",
    "    'name' : name_list,\n",
    "    'team' : team_list,\n",
    "    'salary' : real_salary_list\n",
    "})\n",
    "result = result.sort_values(by='salary', ascending=False, ignore_index=True)\n",
    "\n",
    "wb = app.books.open('result.xlsx') #최소화 된 엑셀에서 해당하는 파일이름의 파일 오픈\n",
    "ws = wb.sheets.add(\"result\")\n",
    "ws.range('A1').options(index=False).value = result\n",
    "wb.save()\n",
    "wb.close\n",
    "app.kill()"
   ]
  }
 ],
 "metadata": {
  "kernelspec": {
   "display_name": "Python 3",
   "language": "python",
   "name": "python3"
  },
  "language_info": {
   "codemirror_mode": {
    "name": "ipython",
    "version": 3
   },
   "file_extension": ".py",
   "mimetype": "text/x-python",
   "name": "python",
   "nbconvert_exporter": "python",
   "pygments_lexer": "ipython3",
   "version": "3.9.6"
  },
  "orig_nbformat": 4
 },
 "nbformat": 4,
 "nbformat_minor": 2
}
